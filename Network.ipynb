{
 "cells": [
  {
   "cell_type": "code",
   "execution_count": 1,
   "metadata": {
    "collapsed": true
   },
   "outputs": [],
   "source": [
    "from environment import Environment\n",
    "import numpy as np\n",
    "import torch\n",
    "from torch import optim\n",
    "import torch.nn as nn\n",
    "import torch.nn.functional as F\n",
    "import os\n",
    "import tqdm\n",
    "from PIL import Image\n",
    "\n",
    "os.environ[\"KMP_DUPLICATE_LIB_OK\"]=\"TRUE\""
   ]
  },
  {
   "cell_type": "code",
   "execution_count": 2,
   "outputs": [],
   "source": [
    "BATCH_SIZE = 100\n",
    "LR = 0.02\n",
    "GAMMA = 0.90\n",
    "EPSILON = 0.9\n",
    "MEMORY_CAPACITY = 10000\n",
    "Q_NETWORK_ITERATION = 1000\n",
    "\n",
    "env = Environment()\n",
    "env.draw_map()\n",
    "NUM_ACTIONS = env.n_actions\n",
    "NUM_STATES = env.n_features\n",
    "EPISODES = 10000"
   ],
   "metadata": {
    "collapsed": false,
    "pycharm": {
     "name": "#%%\n"
    }
   }
  },
  {
   "cell_type": "code",
   "execution_count": 3,
   "outputs": [],
   "source": [
    "class Net(nn.Module):\n",
    "    def __init__(self):\n",
    "        super(Net, self).__init__()\n",
    "        self.fc1 = nn.Linear(NUM_STATES, 80)\n",
    "        self.fc1.weight.data.normal_(0, 0.1)\n",
    "        self.fc2 = nn.Linear(80, NUM_ACTIONS)\n",
    "        self.fc2.weight.data.normal_(0, 0.1)\n",
    "\n",
    "    def forward(self, x):\n",
    "        x = self.fc1(x)\n",
    "        x = F.relu(x)\n",
    "        x = self.fc2(x)\n",
    "        return x"
   ],
   "metadata": {
    "collapsed": false,
    "pycharm": {
     "name": "#%%\n"
    }
   }
  },
  {
   "cell_type": "code",
   "execution_count": 4,
   "outputs": [],
   "source": [
    "class DQN:\n",
    "    def __init__(self):\n",
    "        self.eval_net, self.target_net = Net(), Net()\n",
    "        self.memory = np.zeros((MEMORY_CAPACITY, NUM_STATES * 2 + 2))\n",
    "        self.memory_counter = 0\n",
    "        self.learn_counter = 0\n",
    "        self.optimizer = optim.Adam(self.eval_net.parameters(), LR)\n",
    "        self.loss = nn.MSELoss()\n",
    "\n",
    "    def store_trans(self, state, action, reward, next_state):\n",
    "        index = self.memory_counter % MEMORY_CAPACITY\n",
    "        trans = np.hstack((state, action, reward, next_state))\n",
    "        self.memory[index, :] = trans\n",
    "        self.memory_counter += 1\n",
    "\n",
    "    def choose_action(self, state):\n",
    "        state = torch.unsqueeze(torch.FloatTensor(state), 0)\n",
    "        if np.random.randn() <= EPSILON:\n",
    "            action_value = self.eval_net.forward(state)\n",
    "            action = torch.max(action_value, 1)[1].data.numpy()\n",
    "            action = action[0]\n",
    "        else:\n",
    "            action = np.random.randint(0, NUM_ACTIONS)\n",
    "        return action\n",
    "\n",
    "    def learn(self):\n",
    "        if self.learn_counter % Q_NETWORK_ITERATION == 0:\n",
    "            self.target_net.load_state_dict(self.eval_net.state_dict())\n",
    "        self.learn_counter+=1\n",
    "\n",
    "        sample_index = np.random.choice(MEMORY_CAPACITY, BATCH_SIZE)\n",
    "        batch_memory = self.memory[sample_index, :]\n",
    "        batch_state = torch.FloatTensor(batch_memory[:, :NUM_STATES])\n",
    "        batch_action = torch.LongTensor(batch_memory[:, NUM_STATES:NUM_STATES+1].astype(int))\n",
    "        batch_reward = torch.FloatTensor(batch_memory[:, NUM_STATES+1: NUM_STATES+2])\n",
    "        batch_next_state = torch.FloatTensor(batch_memory[:, -NUM_STATES:])\n",
    "\n",
    "        q_eval = self.eval_net(batch_state).gather(1, batch_action)\n",
    "        q_next = self.target_net(batch_next_state).detach()\n",
    "        q_target = batch_reward + GAMMA * q_next.max(1)[0].view(BATCH_SIZE, 1)\n",
    "\n",
    "        loss = self.loss(q_eval, q_target)\n",
    "        self.optimizer.zero_grad()\n",
    "        loss.backward()\n",
    "        self.optimizer.step()"
   ],
   "metadata": {
    "collapsed": false,
    "pycharm": {
     "name": "#%%\n"
    }
   }
  },
  {
   "cell_type": "code",
   "execution_count": 5,
   "outputs": [],
   "source": [
    "def save_fig(episode, step_counter, environment):\n",
    "    if not os.path.isdir('frames/episode' + str(episode)):\n",
    "        os.makedirs('frames/episode' + str(episode))\n",
    "    figure = environment.draw_map()\n",
    "    figure.savefig('frames/episode' + str(episode) + '/' + str(step_counter-1) + '.png')"
   ],
   "metadata": {
    "collapsed": false,
    "pycharm": {
     "name": "#%%\n"
    }
   }
  },
  {
   "cell_type": "code",
   "execution_count": 8,
   "outputs": [],
   "source": [
    "def make_gif_animation(_path):\n",
    "    frames = []\n",
    "    frames_len = len([f for f in os.listdir(_path)\n",
    "                      if f.endswith('.png')])\n",
    "    for frame_number in range(frames_len):\n",
    "        frame = Image.open(_path + '/' + str(frame_number) + '.png')\n",
    "        frames.append(frame)\n",
    "    frames[0].save(\n",
    "        _path + '/episode.gif',\n",
    "        save_all=True,\n",
    "        append_images=frames[1:],\n",
    "        optimize=True,\n",
    "        duration=200,\n",
    "        loop=0\n",
    "    )"
   ],
   "metadata": {
    "collapsed": false,
    "pycharm": {
     "name": "#%%\n"
    }
   }
  },
  {
   "cell_type": "code",
   "execution_count": 10,
   "outputs": [
    {
     "name": "stdout",
     "output_type": "stream",
     "text": [
      "The DQN is collecting experience...\n"
     ]
    },
    {
     "name": "stderr",
     "output_type": "stream",
     "text": [
      "100%|██████████| 10000/10000 [02:44<00:00, 60.93it/s]\n"
     ]
    }
   ],
   "source": [
    "import random\n",
    "import math\n",
    "\n",
    "rewards = []\n",
    "net = DQN()\n",
    "\n",
    "def main():\n",
    "    print(\"The DQN is collecting experience...\")\n",
    "    step_counter_list = []\n",
    "    for episode in tqdm.tqdm(range(EPISODES)):\n",
    "        state = env.reset()\n",
    "        step_counter = 0\n",
    "        # sum_rew = 0\n",
    "        while True:\n",
    "            step_counter +=1\n",
    "            action = net.choose_action(state)\n",
    "            next_state, reward, done = env.step(action)\n",
    "\n",
    "            if episode % 1000 == 0:\n",
    "                save_fig(episode, step_counter, env)\n",
    "\n",
    "            net.store_trans(state, action, reward, next_state)\n",
    "            if net.memory_counter >= MEMORY_CAPACITY:\n",
    "                net.learn()\n",
    "            if done:\n",
    "                step_counter_list.append(step_counter)\n",
    "                rewards.append(reward)\n",
    "                if episode % 1000 == 0:\n",
    "                    make_gif_animation('frames/episode' + str(episode))\n",
    "                break\n",
    "\n",
    "            state = next_state\n",
    "\n",
    "\n",
    "if __name__ == '__main__':\n",
    "    main()"
   ],
   "metadata": {
    "collapsed": false,
    "pycharm": {
     "name": "#%%\n"
    }
   }
  },
  {
   "cell_type": "code",
   "execution_count": 6,
   "outputs": [
    {
     "data": {
      "text/plain": "[<matplotlib.lines.Line2D at 0x1c7e4839880>]"
     },
     "execution_count": 6,
     "metadata": {},
     "output_type": "execute_result"
    },
    {
     "data": {
      "text/plain": "<Figure size 432x288 with 1 Axes>",
      "image/png": "[encoded data removed]"
     },
     "metadata": {
      "needs_background": "light"
     },
     "output_type": "display_data"
    }
   ],
   "source": [
    "import matplotlib.pyplot as plt\n",
    "\n",
    "plt.plot(rewards)"
   ],
   "metadata": {
    "collapsed": false,
    "pycharm": {
     "name": "#%%\n"
    }
   }
  },
  {
   "cell_type": "code",
   "execution_count": 7,
   "outputs": [
    {
     "name": "stdout",
     "output_type": "stream",
     "text": [
      "5417\n"
     ]
    }
   ],
   "source": [
    "p = 0\n",
    "for i in rewards:\n",
    "    if i > 0:\n",
    "        p += 1\n",
    "\n",
    "print(p)"
   ],
   "metadata": {
    "collapsed": false,
    "pycharm": {
     "name": "#%%\n"
    }
   }
  },
  {
   "cell_type": "code",
   "execution_count": 8,
   "outputs": [
    {
     "ename": "TypeError",
     "evalue": "reset() takes 1 positional argument but 3 were given",
     "output_type": "error",
     "traceback": [
      "\u001B[1;31m---------------------------------------------------------------------------\u001B[0m",
      "\u001B[1;31mTypeError\u001B[0m                                 Traceback (most recent call last)",
      "\u001B[1;32m~\\AppData\\Local\\Temp/ipykernel_3092/2123196098.py\u001B[0m in \u001B[0;36m<module>\u001B[1;34m\u001B[0m\n\u001B[0;32m      4\u001B[0m     \u001B[0mangle1\u001B[0m \u001B[1;33m=\u001B[0m \u001B[0mrandom\u001B[0m\u001B[1;33m.\u001B[0m\u001B[0muniform\u001B[0m\u001B[1;33m(\u001B[0m\u001B[1;36m0\u001B[0m\u001B[1;33m,\u001B[0m \u001B[1;36m2\u001B[0m \u001B[1;33m*\u001B[0m \u001B[0mmath\u001B[0m\u001B[1;33m.\u001B[0m\u001B[0mpi\u001B[0m\u001B[1;33m)\u001B[0m\u001B[1;33m\u001B[0m\u001B[1;33m\u001B[0m\u001B[0m\n\u001B[0;32m      5\u001B[0m     \u001B[0mangle2\u001B[0m \u001B[1;33m=\u001B[0m \u001B[0mrandom\u001B[0m\u001B[1;33m.\u001B[0m\u001B[0muniform\u001B[0m\u001B[1;33m(\u001B[0m\u001B[1;36m0\u001B[0m\u001B[1;33m,\u001B[0m \u001B[1;36m2\u001B[0m \u001B[1;33m*\u001B[0m \u001B[0mmath\u001B[0m\u001B[1;33m.\u001B[0m\u001B[0mpi\u001B[0m\u001B[1;33m)\u001B[0m\u001B[1;33m\u001B[0m\u001B[1;33m\u001B[0m\u001B[0m\n\u001B[1;32m----> 6\u001B[1;33m     \u001B[0mstate\u001B[0m \u001B[1;33m=\u001B[0m \u001B[0mtest_env\u001B[0m\u001B[1;33m.\u001B[0m\u001B[0mreset\u001B[0m\u001B[1;33m(\u001B[0m\u001B[0mangle1\u001B[0m\u001B[1;33m,\u001B[0m \u001B[0mangle2\u001B[0m\u001B[1;33m)\u001B[0m\u001B[1;33m\u001B[0m\u001B[1;33m\u001B[0m\u001B[0m\n\u001B[0m\u001B[0;32m      7\u001B[0m     \u001B[1;32mwhile\u001B[0m \u001B[1;32mTrue\u001B[0m\u001B[1;33m:\u001B[0m\u001B[1;33m\u001B[0m\u001B[1;33m\u001B[0m\u001B[0m\n\u001B[0;32m      8\u001B[0m         \u001B[0maction\u001B[0m \u001B[1;33m=\u001B[0m \u001B[0mnet\u001B[0m\u001B[1;33m.\u001B[0m\u001B[0mchoose_action\u001B[0m\u001B[1;33m(\u001B[0m\u001B[0mstate\u001B[0m\u001B[1;33m)\u001B[0m\u001B[1;33m\u001B[0m\u001B[1;33m\u001B[0m\u001B[0m\n",
      "\u001B[1;31mTypeError\u001B[0m: reset() takes 1 positional argument but 3 were given"
     ]
    }
   ],
   "source": [
    "rewards = []\n",
    "test_env = Environment()\n",
    "for i in range(100):\n",
    "    angle1 = random.uniform(0, 2 * math.pi)\n",
    "    angle2 = random.uniform(0, 2 * math.pi)\n",
    "    state = test_env.reset(angle1, angle2)\n",
    "    while True:\n",
    "        action = net.choose_action(state)\n",
    "        next_state, reward, done = test_env.step(action)\n",
    "        net.store_trans(state, action, reward, next_state)\n",
    "        if done:\n",
    "            rewards.append(reward)\n",
    "            figure = test_env.draw_map()\n",
    "            figure.savefig('frames/' + str(i) + '.png')\n",
    "            break\n",
    "        state = next_state"
   ],
   "metadata": {
    "collapsed": false,
    "pycharm": {
     "name": "#%%\n"
    }
   }
  },
  {
   "cell_type": "code",
   "execution_count": 16,
   "outputs": [
    {
     "name": "stdout",
     "output_type": "stream",
     "text": [
      "62\n"
     ]
    }
   ],
   "source": [
    "p = 0\n",
    "for i in rewards:\n",
    "    if i > 0:\n",
    "        p += 1\n",
    "\n",
    "print(p)"
   ],
   "metadata": {
    "collapsed": false,
    "pycharm": {
     "name": "#%%\n"
    }
   }
  },
  {
   "cell_type": "code",
   "execution_count": 17,
   "outputs": [
    {
     "name": "stdout",
     "output_type": "stream",
     "text": [
      "[20900, 21400, 21000, -10000, 20900, 21300, 20700, 20900, 20700, -101.39879432958108, 20900, 21000, -10000, 21400, 21000, 21200, 21500, 21500, 20800, 21200, -10000, 21100, -199.955692872426, 21500, 20700, 21100, -10000, -10000, 20800, 20800, 20800, 21300, 21000, 21400, 21300, 21100, 20900, 21200, -10000, 21100, 21100, 20900, 20700, 21400, -10000, 21100, 20900, 21500, 21300, 21100, 20900, 21300, 21200, 20800, 20800, 20900, 21000, 21500, -10000, -10000, 21400, 20900, 21100, -10000, 21200, 21500, 21400, 20900, -10000, 21500, 21000, 20900, 21000, 20900, 20800, -10000, 21400, 21000, 21400, 21100, -10000, 21200, 20900, 20900, 21300, 20800, 21100, -599.5830355099472, 21300, 21500, -10000, -10000, -10000, 20800, -10000, 20900, 21400, 21300, 20900, -10000]\n"
     ]
    }
   ],
   "source": [
    "print(rewards)"
   ],
   "metadata": {
    "collapsed": false,
    "pycharm": {
     "name": "#%%\n"
    }
   }
  },
  {
   "cell_type": "code",
   "execution_count": null,
   "outputs": [],
   "source": [],
   "metadata": {
    "collapsed": false,
    "pycharm": {
     "name": "#%%\n"
    }
   }
  }
 ],
 "metadata": {
  "kernelspec": {
   "name": "conda-env-new-py",
   "language": "python",
   "display_name": "Python [conda env:new] *"
  },
  "language_info": {
   "codemirror_mode": {
    "name": "ipython",
    "version": 2
   },
   "file_extension": ".py",
   "mimetype": "text/x-python",
   "name": "python",
   "nbconvert_exporter": "python",
   "pygments_lexer": "ipython2",
   "version": "2.7.6"
  }
 },
 "nbformat": 4,
 "nbformat_minor": 0
}