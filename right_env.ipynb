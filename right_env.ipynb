{
 "cells": [
  {
   "cell_type": "code",
   "execution_count": 27,
   "id": "410c7b83",
   "metadata": {},
   "outputs": [],
   "source": [
    "import numpy as np  \n",
    "import pandas as pd\n",
    "import matplotlib.pyplot as plt\n",
    "import math\n",
    "import torch\n",
    "from torch import optim\n",
    "import torch.nn as nn\n",
    "import torch.nn.functional as F\n",
    "import os\n",
    "import random\n",
    "import tqdm\n",
    "\n",
    "os.environ[\"KMP_DUPLICATE_LIB_OK\"]=\"TRUE\""
   ]
  },
  {
   "cell_type": "code",
   "execution_count": 28,
   "id": "270244e1-6875-4b46-9476-2d87eabf9f7f",
   "metadata": {},
   "outputs": [],
   "source": [
    "import matplotlib.pyplot as plt\n",
    "\n",
    "class Island:\n",
    "    def __init__(self, xcentr=5, ycentr=5, radius=1):\n",
    "        self.xcentr = xcentr\n",
    "        self.ycentr = ycentr\n",
    "        self.radius = radius\n",
    "\n",
    "    def belongs_to_boarder(self, x, y):\n",
    "        dist = ((x - self.xcentr) ** 2 + (y - self.ycentr) ** 2) ** 0.5\n",
    "        if dist <= self.radius:\n",
    "            return True\n",
    "        else:\n",
    "            return False\n",
    "\n",
    "    def get_dist(self, x, y):\n",
    "        return ((x - self.xcentr) ** 2 + (y - self.ycentr) ** 2) ** 0.5 - self.radius\n",
    "\n",
    "    def draw_island(self, color='blue'):\n",
    "        return plt.Circle((self.xcentr, self.ycentr), self.radius, color=color)\n",
    "\n",
    "    def getCoords(self):\n",
    "        return [self.xcentr, self.ycentr]\n"
   ]
  },
  {
   "cell_type": "code",
   "execution_count": 29,
   "id": "31785e33",
   "metadata": {},
   "outputs": [],
   "source": [
    "x_lower_bound = 0\n",
    "x_upper_bound = 10\n",
    "y_lower_bound = 0\n",
    "y_upper_bound = 10"
   ]
  },
  {
   "cell_type": "code",
   "execution_count": 30,
   "id": "c32cc8f2-273e-47b3-b737-a416e9072088",
   "metadata": {},
   "outputs": [
    {
     "name": "stdout",
     "output_type": "stream",
     "text": [
      "cpu\n"
     ]
    }
   ],
   "source": [
    "device = torch.device(\"cuda:0\" if torch.cuda.is_available() else \"cpu\")\n",
    "print(device)"
   ]
  },
  {
   "cell_type": "code",
   "execution_count": 31,
   "id": "1a040072",
   "metadata": {},
   "outputs": [],
   "source": [
    "class Ship:\n",
    "    def __init__(self, x = 1, y = 5, v = 1, direction = 0):\n",
    "        self.x = x\n",
    "        self.y = y\n",
    "        self.v = v\n",
    "        self.direction = direction\n",
    "        self.prev_d = self.direction\n",
    "        self.positions = [[self.x, self.y]]\n",
    "        self.cum_d = 0\n",
    "        \n",
    "    def move(self, dt=1):\n",
    "        self.x += dt * self.v * math.cos(self.direction)\n",
    "        self.y += dt * self.v * math.sin(self.direction)\n",
    "        self.cum_d += abs(self.direction - self.prev_d)\n",
    "        self.prev_d = self.direction\n",
    "        \n",
    "    def getCoords(self):\n",
    "        return [self.x, self.y]\n",
    "    \n",
    "    def add_position(self):\n",
    "        self.positions.append([self.x, self.y])\n",
    "        \n",
    "    def get_positions(self):\n",
    "        return self.positions"
   ]
  },
  {
   "cell_type": "code",
   "execution_count": 32,
   "id": "0521dd18-a193-48d9-9376-dd7e8ff44063",
   "metadata": {},
   "outputs": [],
   "source": [
    "class Environment(object):\n",
    "    def __init__(self):\n",
    "        super(Environment, self).__init__()\n",
    "        self.action_space = ['left', 'right', 'idle']\n",
    "        self.n_actions = len(self.action_space)\n",
    "        self.n_features = 2\n",
    "\n",
    "        self.build_environment()\n",
    "        \n",
    "        self.route = []\n",
    "        self.list_of_route = []\n",
    "        self.d = {}\n",
    "        self.f = {}\n",
    "        \n",
    "        self.prev_dist = 0\n",
    "        self.prev_i_dist = 0\n",
    "\n",
    "        self.i = 0\n",
    "        \n",
    "    def get_state(self):\n",
    "        a = self.ship.getCoords()\n",
    "        b = self.island.getCoords()\n",
    "        c = self.flag.getCoords()\n",
    "        dxi, dyi = b[0] - a[0], b[1] - a[1]\n",
    "        dxf, dyf = c[0] - a[0], c[1] - a[1]\n",
    "        f_angle = math.atan2(dyf, dxf)\n",
    "        i_angle = math.atan2(dyi, dxi)\n",
    "        return [f_angle - self.ship.direction, f_angle, dxf, dyf, i_angle - self.ship.direction, i_angle, dxi, dyi]\n",
    "\n",
    "    def build_environment(self):\n",
    "        rate = random.uniform(0.3, 0.5)\n",
    "        dist = random.uniform(7, 15)\n",
    "        angle = random.uniform(0, 2 * math.pi)\n",
    "        self.flag = Island(0, 0, 1)\n",
    "        self.ship = Ship(dist * math.cos(angle), dist * math.sin(angle))\n",
    "        self.island = Island(rate * dist * math.cos(angle), rate * dist * math.sin(angle))\n",
    "        a = self.ship.getCoords()\n",
    "        c = self.flag.getCoords()\n",
    "        dxf, dyf = c[0] - a[0], c[1] - a[1]\n",
    "        f_angle = math.atan2(dyf, dxf)\n",
    "        self.ship.direction = f_angle\n",
    "        self.prev_dist = self.flag.get_dist(self.ship.x, self.ship.y)\n",
    "        self.prev_i_dist = self.island.get_dist(self.ship.x, self.ship.y)\n",
    "    \n",
    "    def reset(self):\n",
    "        self.build_environment()\n",
    "        self.d = {}\n",
    "        self.i = 0\n",
    "        return self.get_state()\n",
    "    \n",
    "    def step(self, action):\n",
    "        dt = 1\n",
    "        \n",
    "        state = self.ship.getCoords()\n",
    "\n",
    "        if action == 0:\n",
    "            self.ship.direction += math.pi / 6\n",
    "        elif action == 1:\n",
    "            self.ship.direction -= math.pi / 6\n",
    "        # elif action == 2:\n",
    "        #     self.ship.v += 0.25\n",
    "        # elif action == 3:\n",
    "        #     self.ship.v -= 0.25\n",
    "        \n",
    "        self.ship.move(dt)\n",
    "        \n",
    "        self.ship.add_position()\n",
    "\n",
    "        next_state = self.get_state()\n",
    "\n",
    "        self.i += 1\n",
    "        \n",
    "        if self.flag.belongs_to_boarder(self.ship.x, self.ship.y):\n",
    "            reward = 20000\n",
    "            done = True\n",
    "            \n",
    "            self.d = {}\n",
    "            self.i = 0\n",
    "\n",
    "        elif self.island.belongs_to_boarder(self.ship.x, self.ship.y):\n",
    "            reward = -10000\n",
    "            done = True\n",
    "\n",
    "            self.d = {}\n",
    "            self.i = 0\n",
    "            \n",
    "        elif len(self.ship.get_positions()) > 500:\n",
    "            done = True\n",
    "            self.d = {}\n",
    "            self.i = 0\n",
    "            # print(\"Time limit exceeded\")\n",
    "            reward = -1000 * (self.prev_dist - self.flag.get_dist(self.ship.x, self.ship.y)) ** 2\n",
    "\n",
    "        else:\n",
    "            reward = (self.prev_dist - self.flag.get_dist(self.ship.x, self.ship.y)) ** 3\n",
    "            reward -= 0.1 * (self.prev_i_dist - self.island.get_dist(self.ship.x, self.ship.y)) ** 3\n",
    "            if reward < 0:\n",
    "                reward *= 10\n",
    "            # reward += 10 * (1 - self.ship.cum_d ** 2) * math.exp( - 0.5 * self.ship.cum_d ** 2) - 5\n",
    "            done = False\n",
    "        \n",
    "        self.prev_dist = self.flag.get_dist(self.ship.x, self.ship.y)\n",
    "        self.prev_i_dist = self.island.get_dist(self.ship.x, self.ship.y)\n",
    "\n",
    "        return next_state, reward, done \n",
    "    \n",
    "    def draw_map(self):\n",
    "        field, ax = plt.subplots()\n",
    "        ax.set(xlim=(x_upper_bound * -2, x_upper_bound * 2), ylim=(y_upper_bound * -2, y_upper_bound * 2))\n",
    "        ax.set_aspect(1)\n",
    "        ax.add_artist(self.island.draw_island('green'))\n",
    "        ax.add_artist(self.flag.draw_island())\n",
    "        pos = self.ship.get_positions()\n",
    "        for i in range(len(pos) - 1):\n",
    "            ax.plot([pos[i][0], pos[i + 1][0]], [pos[i][1], pos[i + 1][1]], marker = 'o', color='r')\n",
    "        plt.show()\n",
    "\n",
    "if __name__ == '__main__':\n",
    "    env = Environment()"
   ]
  },
  {
   "cell_type": "markdown",
   "id": "147a8ad7-ee4e-42d5-98d7-664f0ebbc029",
   "metadata": {},
   "source": [
    "Ключевая идея: подаем на вектор относительных координат острова и флага, а также пеленги на них."
   ]
  },
  {
   "cell_type": "code",
   "execution_count": 33,
   "id": "8b8127c0",
   "metadata": {},
   "outputs": [],
   "source": [
    "BATCH_SIZE = 100\n",
    "LR = 0.03\n",
    "GAMMA = 0.90\n",
    "EPSILON = 0.9\n",
    "MEMORY_CAPACITY = 10000\n",
    "Q_NETWORK_ITERATION = 1000\n",
    "\n",
    "env = Environment()\n",
    "NUM_ACTIONS = env.n_actions\n",
    "NUM_STATES = 8\n",
    "EPISODES = 20000"
   ]
  },
  {
   "cell_type": "code",
   "execution_count": 34,
   "id": "78146c9e",
   "metadata": {},
   "outputs": [],
   "source": [
    "class Net(nn.Module):\n",
    "    def __init__(self):\n",
    "        super(Net, self).__init__()\n",
    "        self.fc1 = nn.Linear(NUM_STATES, 80)\n",
    "        self.fc1.weight.data.normal_(0, 0.1)\n",
    "        self.fc2 = nn.Linear(80, NUM_ACTIONS)\n",
    "        self.fc2.weight.data.normal_(0, 0.1)\n",
    "        \n",
    "    def forward(self, x):\n",
    "        x = self.fc1(x)\n",
    "        x = F.relu(x)\n",
    "        x = self.fc2(x)\n",
    "        return x"
   ]
  },
  {
   "cell_type": "code",
   "execution_count": 35,
   "id": "c29f03c8",
   "metadata": {},
   "outputs": [],
   "source": [
    "class DQN():\n",
    "    def __init__(self):\n",
    "        self.eval_net, self.target_net = Net(), Net()\n",
    "        self.memory = np.zeros((MEMORY_CAPACITY, NUM_STATES * 2 + 2))\n",
    "        self.memory_counter = 0\n",
    "        self.learn_counter = 0\n",
    "        self.optimizer = optim.Adam(self.eval_net.parameters(), LR)\n",
    "        self.loss = nn.MSELoss()\n",
    "        \n",
    "    def store_trans(self, state, action, reward, next_state):\n",
    "        index = self.memory_counter % MEMORY_CAPACITY\n",
    "        trans = np.hstack((state, action, reward, next_state))\n",
    "        self.memory[index, :] = trans\n",
    "        self.memory_counter += 1\n",
    "        \n",
    "    def choose_action(self, state):\n",
    "        state = torch.unsqueeze(torch.FloatTensor(state), 0)\n",
    "        if np.random.randn() <= EPSILON:\n",
    "            action_value = self.eval_net.forward(state)\n",
    "            action = torch.max(action_value, 1)[1].data.numpy()\n",
    "            action = action[0]\n",
    "        else:\n",
    "            action = np.random.randint(0, NUM_ACTIONS)\n",
    "        return action\n",
    "    \n",
    "    def learn(self):\n",
    "        # learn 100 times then the target network update\n",
    "        if self.learn_counter % Q_NETWORK_ITERATION == 0:\n",
    "            self.target_net.load_state_dict(self.eval_net.state_dict())\n",
    "        self.learn_counter+=1\n",
    "\n",
    "        sample_index = np.random.choice(MEMORY_CAPACITY, BATCH_SIZE)\n",
    "        batch_memory = self.memory[sample_index, :]\n",
    "        batch_state = torch.FloatTensor(batch_memory[:, :NUM_STATES])\n",
    "        #note that the action must be a int\n",
    "        batch_action = torch.LongTensor(batch_memory[:, NUM_STATES:NUM_STATES+1].astype(int))\n",
    "        batch_reward = torch.FloatTensor(batch_memory[:, NUM_STATES+1: NUM_STATES+2])\n",
    "        batch_next_state = torch.FloatTensor(batch_memory[:, -NUM_STATES:])\n",
    "\n",
    "        q_eval = self.eval_net(batch_state).gather(1, batch_action)\n",
    "        q_next = self.target_net(batch_next_state).detach()\n",
    "        q_target = batch_reward + GAMMA * q_next.max(1)[0].view(BATCH_SIZE, 1)\n",
    "\n",
    "        loss = self.loss(q_eval, q_target)\n",
    "        self.optimizer.zero_grad()\n",
    "        loss.backward()\n",
    "        self.optimizer.step()"
   ]
  },
  {
   "cell_type": "code",
   "execution_count": 36,
   "id": "9b34c40d",
   "metadata": {
    "tags": []
   },
   "outputs": [
    {
     "name": "stdout",
     "output_type": "stream",
     "text": [
      "The DQN is collecting experience...\n"
     ]
    },
    {
     "name": "stderr",
     "output_type": "stream",
     "text": [
      "\r",
      "  0%|                                                                                        | 0/20000 [00:00<?, ?it/s]"
     ]
    },
    {
     "data": {
      "image/png": "[encoded data removed]",
      "text/plain": [
       "<Figure size 432x288 with 1 Axes>"
      ]
     },
     "metadata": {
      "needs_background": "light"
     },
     "output_type": "display_data"
    },
    {
     "name": "stderr",
     "output_type": "stream",
     "text": [
      "  0%|                                                                             | 32/20000 [00:06<1:05:20,  5.09it/s]\n"
     ]
    },
    {
     "ename": "KeyboardInterrupt",
     "evalue": "",
     "output_type": "error",
     "traceback": [
      "\u001b[1;31m---------------------------------------------------------------------------\u001b[0m",
      "\u001b[1;31mKeyboardInterrupt\u001b[0m                         Traceback (most recent call last)",
      "\u001b[1;32m~\\AppData\\Local\\Temp/ipykernel_13836/1034674467.py\u001b[0m in \u001b[0;36m<module>\u001b[1;34m\u001b[0m\n\u001b[0;32m     31\u001b[0m \u001b[1;33m\u001b[0m\u001b[0m\n\u001b[0;32m     32\u001b[0m \u001b[1;32mif\u001b[0m \u001b[0m__name__\u001b[0m \u001b[1;33m==\u001b[0m \u001b[1;34m'__main__'\u001b[0m\u001b[1;33m:\u001b[0m\u001b[1;33m\u001b[0m\u001b[1;33m\u001b[0m\u001b[0m\n\u001b[1;32m---> 33\u001b[1;33m     \u001b[0mmain\u001b[0m\u001b[1;33m(\u001b[0m\u001b[1;33m)\u001b[0m\u001b[1;33m\u001b[0m\u001b[1;33m\u001b[0m\u001b[0m\n\u001b[0m",
      "\u001b[1;32m~\\AppData\\Local\\Temp/ipykernel_13836/1034674467.py\u001b[0m in \u001b[0;36mmain\u001b[1;34m()\u001b[0m\n\u001b[0;32m     17\u001b[0m             \u001b[0mnet\u001b[0m\u001b[1;33m.\u001b[0m\u001b[0mstore_trans\u001b[0m\u001b[1;33m(\u001b[0m\u001b[0mstate\u001b[0m\u001b[1;33m,\u001b[0m \u001b[0maction\u001b[0m\u001b[1;33m,\u001b[0m \u001b[0mreward\u001b[0m\u001b[1;33m,\u001b[0m \u001b[0mnext_state\u001b[0m\u001b[1;33m)\u001b[0m\u001b[1;33m\u001b[0m\u001b[1;33m\u001b[0m\u001b[0m\n\u001b[0;32m     18\u001b[0m             \u001b[1;32mif\u001b[0m \u001b[0mnet\u001b[0m\u001b[1;33m.\u001b[0m\u001b[0mmemory_counter\u001b[0m \u001b[1;33m>=\u001b[0m \u001b[0mMEMORY_CAPACITY\u001b[0m\u001b[1;33m:\u001b[0m\u001b[1;33m\u001b[0m\u001b[1;33m\u001b[0m\u001b[0m\n\u001b[1;32m---> 19\u001b[1;33m                 \u001b[0mnet\u001b[0m\u001b[1;33m.\u001b[0m\u001b[0mlearn\u001b[0m\u001b[1;33m(\u001b[0m\u001b[1;33m)\u001b[0m\u001b[1;33m\u001b[0m\u001b[1;33m\u001b[0m\u001b[0m\n\u001b[0m\u001b[0;32m     20\u001b[0m             \u001b[1;32mif\u001b[0m \u001b[0mdone\u001b[0m\u001b[1;33m:\u001b[0m\u001b[1;33m\u001b[0m\u001b[1;33m\u001b[0m\u001b[0m\n\u001b[0;32m     21\u001b[0m                 \u001b[0mstep_counter_list\u001b[0m\u001b[1;33m.\u001b[0m\u001b[0mappend\u001b[0m\u001b[1;33m(\u001b[0m\u001b[0mstep_counter\u001b[0m\u001b[1;33m)\u001b[0m\u001b[1;33m\u001b[0m\u001b[1;33m\u001b[0m\u001b[0m\n",
      "\u001b[1;32m~\\AppData\\Local\\Temp/ipykernel_13836/2758257559.py\u001b[0m in \u001b[0;36mlearn\u001b[1;34m(self)\u001b[0m\n\u001b[0;32m     31\u001b[0m \u001b[1;33m\u001b[0m\u001b[0m\n\u001b[0;32m     32\u001b[0m         \u001b[0msample_index\u001b[0m \u001b[1;33m=\u001b[0m \u001b[0mnp\u001b[0m\u001b[1;33m.\u001b[0m\u001b[0mrandom\u001b[0m\u001b[1;33m.\u001b[0m\u001b[0mchoice\u001b[0m\u001b[1;33m(\u001b[0m\u001b[0mMEMORY_CAPACITY\u001b[0m\u001b[1;33m,\u001b[0m \u001b[0mBATCH_SIZE\u001b[0m\u001b[1;33m)\u001b[0m\u001b[1;33m\u001b[0m\u001b[1;33m\u001b[0m\u001b[0m\n\u001b[1;32m---> 33\u001b[1;33m         \u001b[0mbatch_memory\u001b[0m \u001b[1;33m=\u001b[0m \u001b[0mself\u001b[0m\u001b[1;33m.\u001b[0m\u001b[0mmemory\u001b[0m\u001b[1;33m[\u001b[0m\u001b[0msample_index\u001b[0m\u001b[1;33m,\u001b[0m \u001b[1;33m:\u001b[0m\u001b[1;33m]\u001b[0m\u001b[1;33m\u001b[0m\u001b[1;33m\u001b[0m\u001b[0m\n\u001b[0m\u001b[0;32m     34\u001b[0m         \u001b[0mbatch_state\u001b[0m \u001b[1;33m=\u001b[0m \u001b[0mtorch\u001b[0m\u001b[1;33m.\u001b[0m\u001b[0mFloatTensor\u001b[0m\u001b[1;33m(\u001b[0m\u001b[0mbatch_memory\u001b[0m\u001b[1;33m[\u001b[0m\u001b[1;33m:\u001b[0m\u001b[1;33m,\u001b[0m \u001b[1;33m:\u001b[0m\u001b[0mNUM_STATES\u001b[0m\u001b[1;33m]\u001b[0m\u001b[1;33m)\u001b[0m\u001b[1;33m\u001b[0m\u001b[1;33m\u001b[0m\u001b[0m\n\u001b[0;32m     35\u001b[0m         \u001b[1;31m#note that the action must be a int\u001b[0m\u001b[1;33m\u001b[0m\u001b[1;33m\u001b[0m\u001b[0m\n",
      "\u001b[1;31mKeyboardInterrupt\u001b[0m: "
     ]
    }
   ],
   "source": [
    "rewards = []\n",
    "net = DQN()\n",
    "\n",
    "def main():\n",
    "    print(\"The DQN is collecting experience...\")\n",
    "    step_counter_list = []\n",
    "    for episode in tqdm.tqdm(range(EPISODES)):\n",
    "        state = env.reset()\n",
    "        step_counter = 0\n",
    "        sum_rew = 0\n",
    "        while True:\n",
    "            step_counter +=1\n",
    "            action = net.choose_action(state)\n",
    "            next_state, reward, done = env.step(action)\n",
    "            # reward = reward * 100 if reward > 0 else reward * 5\n",
    "            sum_rew += reward\n",
    "            net.store_trans(state, action, reward, next_state)\n",
    "            if net.memory_counter >= MEMORY_CAPACITY:\n",
    "                net.learn()\n",
    "            if done:\n",
    "                step_counter_list.append(step_counter)\n",
    "                # print(\"episode {}, the reward is {}\".format(episode, round(reward, 3)))\n",
    "                rewards.append(sum_rew)\n",
    "                if episode % 100 == 0:\n",
    "                    env.draw_map()\n",
    "                # net.plot(net.ax, step_counter_list)\n",
    "                break\n",
    "\n",
    "            state = next_state\n",
    "            \n",
    "\n",
    "if __name__ == '__main__':\n",
    "    main()"
   ]
  },
  {
   "cell_type": "code",
   "execution_count": 182,
   "id": "ba84cd67-0ab1-4812-92ac-ddcd2a663d73",
   "metadata": {},
   "outputs": [
    {
     "data": {
      "text/plain": [
       "[<matplotlib.lines.Line2D at 0x2a9b5552100>]"
      ]
     },
     "execution_count": 182,
     "metadata": {},
     "output_type": "execute_result"
    },
    {
     "data": {
      "image/png": "[encoded data removed]",
      "text/plain": [
       "<Figure size 432x288 with 1 Axes>"
      ]
     },
     "metadata": {
      "needs_background": "light"
     },
     "output_type": "display_data"
    }
   ],
   "source": [
    "plt.plot(rewards)"
   ]
  },
  {
   "cell_type": "code",
   "execution_count": 183,
   "id": "29febe8f-ae85-4160-933a-53669cc08c2b",
   "metadata": {},
   "outputs": [],
   "source": [
    "m = 0\n",
    "p = 0\n",
    "for i in rewards:\n",
    "    if i < 0:\n",
    "        m += 1\n",
    "    else:\n",
    "        p += 1"
   ]
  },
  {
   "cell_type": "code",
   "execution_count": 184,
   "id": "30e2e75b-761a-4eed-9ec4-a5994c81601b",
   "metadata": {},
   "outputs": [
    {
     "data": {
      "text/plain": [
       "0.9657210401891253"
      ]
     },
     "execution_count": 184,
     "metadata": {},
     "output_type": "execute_result"
    }
   ],
   "source": [
    "m / (m + p)"
   ]
  },
  {
   "cell_type": "code",
   "execution_count": 94,
   "id": "9773f13e-32fd-40a7-9da2-714858a1ea0d",
   "metadata": {},
   "outputs": [
    {
     "data": {
      "text/plain": [
       "1860"
      ]
     },
     "execution_count": 94,
     "metadata": {},
     "output_type": "execute_result"
    }
   ],
   "source": [
    "p"
   ]
  }
 ],
 "metadata": {
  "kernelspec": {
   "display_name": "Python 3 (ipykernel)",
   "language": "python",
   "name": "python3"
  },
  "language_info": {
   "codemirror_mode": {
    "name": "ipython",
    "version": 3
   },
   "file_extension": ".py",
   "mimetype": "text/x-python",
   "name": "python",
   "nbconvert_exporter": "python",
   "pygments_lexer": "ipython3",
   "version": "3.9.7"
  }
 },
 "nbformat": 4,
 "nbformat_minor": 5
}
